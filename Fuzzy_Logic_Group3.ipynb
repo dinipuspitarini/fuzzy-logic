{
  "nbformat": 4,
  "nbformat_minor": 0,
  "metadata": {
    "colab": {
      "name": "Fuzzy_Logic_Group3.ipynb",
      "provenance": [],
      "collapsed_sections": []
    },
    "kernelspec": {
      "name": "python3",
      "display_name": "Python 3"
    },
    "language_info": {
      "name": "python"
    }
  },
  "cells": [
    {
      "cell_type": "markdown",
      "metadata": {
        "id": "sMih134Kl8ur"
      },
      "source": [
        "# **Tugas Pemrograman Pengantar AI 2 Fuzzy Logic**"
      ]
    },
    {
      "cell_type": "markdown",
      "metadata": {
        "id": "-6r6fErgVCFg"
      },
      "source": [
        "- Afrizal Syahruluddin Yusuf     (1301194288)\n",
        "- Ni Made Dwipadini Puspitarini  (1301194141)\n",
        "- Iqbal Saviola Syah Bilhaq      (1301190318)"
      ]
    },
    {
      "cell_type": "code",
      "metadata": {
        "id": "d2Hj45dtU6V0"
      },
      "source": [
        "import numpy as np\n",
        "import pandas as pd\n",
        "import matplotlib.pyplot as plt"
      ],
      "execution_count": 55,
      "outputs": []
    },
    {
      "cell_type": "markdown",
      "metadata": {
        "id": "n4tQ5nP2YQil"
      },
      "source": [
        "# **Membaca Data Set**"
      ]
    },
    {
      "cell_type": "code",
      "metadata": {
        "colab": {
          "base_uri": "https://localhost:8080/",
          "height": 206
        },
        "id": "Jb45KVxyVBIG",
        "outputId": "ffa5a59b-824c-49cf-9068-075ebdb9d38b"
      },
      "source": [
        "url = 'https://github.com/AfrizalSY/Fuzzy_Logic-_Tupro2_AI/blob/main/restoran.xlsx?raw=true'\n",
        "df = pd.read_excel(url)\n",
        "df.head()"
      ],
      "execution_count": 56,
      "outputs": [
        {
          "output_type": "execute_result",
          "data": {
            "text/html": [
              "<div>\n",
              "<style scoped>\n",
              "    .dataframe tbody tr th:only-of-type {\n",
              "        vertical-align: middle;\n",
              "    }\n",
              "\n",
              "    .dataframe tbody tr th {\n",
              "        vertical-align: top;\n",
              "    }\n",
              "\n",
              "    .dataframe thead th {\n",
              "        text-align: right;\n",
              "    }\n",
              "</style>\n",
              "<table border=\"1\" class=\"dataframe\">\n",
              "  <thead>\n",
              "    <tr style=\"text-align: right;\">\n",
              "      <th></th>\n",
              "      <th>id</th>\n",
              "      <th>pelayanan</th>\n",
              "      <th>makanan</th>\n",
              "    </tr>\n",
              "  </thead>\n",
              "  <tbody>\n",
              "    <tr>\n",
              "      <th>0</th>\n",
              "      <td>1</td>\n",
              "      <td>58</td>\n",
              "      <td>7</td>\n",
              "    </tr>\n",
              "    <tr>\n",
              "      <th>1</th>\n",
              "      <td>2</td>\n",
              "      <td>54</td>\n",
              "      <td>1</td>\n",
              "    </tr>\n",
              "    <tr>\n",
              "      <th>2</th>\n",
              "      <td>3</td>\n",
              "      <td>98</td>\n",
              "      <td>2</td>\n",
              "    </tr>\n",
              "    <tr>\n",
              "      <th>3</th>\n",
              "      <td>4</td>\n",
              "      <td>52</td>\n",
              "      <td>4</td>\n",
              "    </tr>\n",
              "    <tr>\n",
              "      <th>4</th>\n",
              "      <td>5</td>\n",
              "      <td>11</td>\n",
              "      <td>4</td>\n",
              "    </tr>\n",
              "  </tbody>\n",
              "</table>\n",
              "</div>"
            ],
            "text/plain": [
              "   id  pelayanan  makanan\n",
              "0   1         58        7\n",
              "1   2         54        1\n",
              "2   3         98        2\n",
              "3   4         52        4\n",
              "4   5         11        4"
            ]
          },
          "metadata": {},
          "execution_count": 56
        }
      ]
    },
    {
      "cell_type": "code",
      "metadata": {
        "colab": {
          "base_uri": "https://localhost:8080/",
          "height": 279
        },
        "id": "mY7477SjwPVR",
        "outputId": "bc6afa39-a159-43b3-ba1b-1177146cf485"
      },
      "source": [
        "#Scatter Plot \n",
        "plt.scatter(df['pelayanan'], df['makanan'])\n",
        "plt.xlabel(\"Pelayanan\")\n",
        "plt.ylabel(\"Makanan\")\n",
        "plt.show()"
      ],
      "execution_count": 57,
      "outputs": [
        {
          "output_type": "display_data",
          "data": {
            "image/png": "[encoded data removed]",
            "text/plain": [
              "<Figure size 432x288 with 1 Axes>"
            ]
          },
          "metadata": {
            "needs_background": "light"
          }
        }
      ]
    },
    {
      "cell_type": "markdown",
      "metadata": {
        "id": "E9QnG-IyYWx1"
      },
      "source": [
        "# **Inisiasi Nilai Linguistik**\n",
        "Kami menentukan 4 nama linguistik untuk makanan yang masing-masing merepresentasikan bilangan real 1 - 10, yaitu :\n",
        "1.   Tidak Enak (TE) = 1 - 3\n",
        "2.   Cukup Enak (CE) = 4 - 6\n",
        "3.   Enak (E) = 7 - 8\n",
        "3.   Sangat Enak (SE) = 9 - 10\n",
        "\n",
        "Sedangkan untuk pelayanan, kami membagi nilai linguistik menjadi 4 yang masing-masing merepresentasikan bilangan real 1 - 100 yaitu :\n",
        "1.   Sangat Buruk (SR) = 1 - 35\n",
        "2.   Buruk (R) = 36 - 60\n",
        "3.   Baik (B) = 61 - 75\n",
        "4.   Sangat Baik (SB) = 76 - 100\n",
        "\n"
      ]
    },
    {
      "cell_type": "markdown",
      "metadata": {
        "id": "N1JVnub7-ZQd"
      },
      "source": [
        "# **Fungsi Keanggotaan**"
      ]
    },
    {
      "cell_type": "markdown",
      "metadata": {
        "id": "0BJT9iKg-iuM"
      },
      "source": [
        "Fungsi Keanggotaan Makanan"
      ]
    },
    {
      "cell_type": "code",
      "metadata": {
        "id": "DJhdAVNSwnqQ"
      },
      "source": [
        "def fkmakanan(x):\n",
        "    makanan = {'TE': 0, 'CE' : 0, 'E' : 0, 'SE' : 0}\n",
        "    titik = [3, 4, 6, 7, 8, 9]\n",
        "\n",
        "    #Kategori makanan tidak enak (TE)\n",
        "    if x <= titik[0]:\n",
        "        makanan['TE'] = 1 \n",
        "    if titik[0] < x <= titik[1]:\n",
        "        makanan['TE'] = -(x - titik[1]) / (titik[1] - titik[0]) \n",
        "    \n",
        "    #Kategori makanan cukup enak (CE)\n",
        "    if titik[0] < x < titik[1]:\n",
        "        makanan['CE'] = (x - titik[0]) / (titik[1] - titik[0]) \n",
        "    if titik[1] <= x <= titik[2]:\n",
        "        makanan['CE'] = 1 \n",
        "    if titik[2] < x <= titik[3]:\n",
        "        makanan['CE'] = -(x - titik[3]) / (titik[3] - titik[2]) \n",
        "\n",
        "    #Kategori makanan enak (E)\n",
        "    if titik[2] < x < titik[3]:\n",
        "        makanan['E'] = (x - titik[2]) / (titik[3] - titik[2]) \n",
        "    if titik[3] <= x <= titik[4]:\n",
        "        makanan['E'] = 1 \n",
        "    if titik[4] < x < titik[5]:\n",
        "        makanan['E'] = -(x - titik[5]) / (titik[5] - titik[4]) \n",
        "\n",
        "    #Kategori makanan sangat enak (SE)\n",
        "    if x >= titik[5]:\n",
        "        makanan['SE'] = 1 \n",
        "    if titik[4] < x <= titik[5]:\n",
        "        makanan['SE'] = (x - titik[4]) / (titik[5] - titik[4]) \n",
        "        \n",
        "    return makanan"
      ],
      "execution_count": 58,
      "outputs": []
    },
    {
      "cell_type": "code",
      "metadata": {
        "colab": {
          "base_uri": "https://localhost:8080/",
          "height": 227
        },
        "id": "TEfW4AtAGBTw",
        "outputId": "92f93793-5475-4470-fb68-2bb6b93fda66"
      },
      "source": [
        "plt.figure(figsize=(8,3))\n",
        "plt.title(\"Grafik Fungsi Keanggotaan Makanan\")\n",
        "plt.plot(range(11), [fkmakanan(x)['TE'] for x in range(11)], label='Tidak Enak')\n",
        "plt.plot(range(11), [fkmakanan(x)['CE'] for x in range(11)], label='Cukup Enak')\n",
        "plt.plot(range(11), [fkmakanan(x)['E'] for x in range(11)], label='Enak')\n",
        "plt.plot(range(11), [fkmakanan(x)['SE'] for x in range(11)], label='Sangat Enak')\n",
        "plt.legend()\n",
        "plt.show()"
      ],
      "execution_count": 59,
      "outputs": [
        {
          "output_type": "display_data",
          "data": {
            "image/png": "[encoded data removed]",
            "text/plain": [
              "<Figure size 576x216 with 1 Axes>"
            ]
          },
          "metadata": {
            "needs_background": "light"
          }
        }
      ]
    },
    {
      "cell_type": "markdown",
      "metadata": {
        "id": "Oag6TK97HFnM"
      },
      "source": [
        "Fungsi Keanggotaan Pelayanan"
      ]
    },
    {
      "cell_type": "code",
      "metadata": {
        "id": "PX7aupnxzAq8"
      },
      "source": [
        "def fkpelayanan(x):\n",
        "    pelayanan = {'SR': 0, 'R' : 0, 'B' : 0, 'SB' : 0}\n",
        "    titik = [35, 36, 60, 61, 75, 76]\n",
        "\n",
        "    #Kategori pelayanan sangat buruk (SR)\n",
        "    if x <= titik[0]:\n",
        "        pelayanan['SR'] = 1 \n",
        "    if titik[0] < x <= titik[1]:\n",
        "        pelayanan['SR'] = -(x - titik[1]) / (titik[1] - titik[0]) \n",
        "    \n",
        "    #Kategori pelayanan buruk (R)\n",
        "    if titik[0] < x < titik[1]:\n",
        "        pelayanan['R'] = (x - titik[0]) / (titik[1] - titik[0]) \n",
        "    if titik[1] <= x <= titik[2]:\n",
        "        pelayanan['R'] = 1 \n",
        "    if titik[2] < x <= titik[3]:\n",
        "        pelayanan['R'] = -(x - titik[3]) / (titik[3] - titik[2]) \n",
        "\n",
        "    #Kategori pelayanan baik (B)\n",
        "    if titik[2] < x < titik[3]:\n",
        "        pelayanan['B'] = (x - titik[2]) / (titik[3] - titik[2]) \n",
        "    if titik[3] <= x <= titik[4]:\n",
        "        pelayanan['B'] = 1 \n",
        "    if titik[4] < x < titik[5]:\n",
        "        pelayanan['B'] = -(x - titik[5]) / (titik[5] - titik[4]) \n",
        "\n",
        "    #Kategori pelayanan sangat baik (SB)\n",
        "    if x >= titik[5]:\n",
        "        pelayanan['SB'] = 1 \n",
        "    if titik[4] < x <= titik[5]:\n",
        "        pelayanan['SB'] = (x - titik[4]) / (titik[5] - titik[4]) \n",
        "        \n",
        "    return pelayanan"
      ],
      "execution_count": 60,
      "outputs": []
    },
    {
      "cell_type": "code",
      "metadata": {
        "colab": {
          "base_uri": "https://localhost:8080/",
          "height": 227
        },
        "id": "ubqcqYfdKbl2",
        "outputId": "466e0884-938a-426f-c573-925075c7fa77"
      },
      "source": [
        "plt.figure(figsize=(8,3))\n",
        "plt.title(\"Grafik Fungsi Keanggotaan Pelayanan\")\n",
        "plt.plot(range(101), [fkpelayanan(x)['SR'] for x in range(101)], label='Sangat Buruk')\n",
        "plt.plot(range(101), [fkpelayanan(x)['R'] for x in range(101)], label='Buruk')\n",
        "plt.plot(range(101), [fkpelayanan(x)['B'] for x in range(101)], label='Baik')\n",
        "plt.plot(range(101), [fkpelayanan(x)['SB'] for x in range(101)], label='Sangat Baik')\n",
        "plt.legend()\n",
        "plt.show()"
      ],
      "execution_count": 61,
      "outputs": [
        {
          "output_type": "display_data",
          "data": {
            "image/png": "[encoded data removed]",
            "text/plain": [
              "<Figure size 576x216 with 1 Axes>"
            ]
          },
          "metadata": {
            "needs_background": "light"
          }
        }
      ]
    },
    {
      "cell_type": "markdown",
      "metadata": {
        "id": "2auFeSM73CR0"
      },
      "source": [
        "# **Fuzzifikasi**\n",
        "\n"
      ]
    },
    {
      "cell_type": "code",
      "metadata": {
        "id": "vGpO6XXAMYMY"
      },
      "source": [
        "def fuzzifikasi(data):\n",
        "  hasilFuzzi = []\n",
        "\n",
        "  for i in range(len(data)):\n",
        "    hasil = [0,0]\n",
        "    hasil[0] = fkpelayanan(data['pelayanan'][i])\n",
        "    hasil[1] = fkmakanan(data['makanan'][i])\n",
        "\n",
        "    hasilFuzzi.append(hasil)\n",
        "  return hasilFuzzi"
      ],
      "execution_count": 62,
      "outputs": []
    },
    {
      "cell_type": "code",
      "metadata": {
        "colab": {
          "base_uri": "https://localhost:8080/"
        },
        "id": "AJTTRwxpN8OJ",
        "outputId": "8e373eca-31b4-4c9c-93ba-8c3601f16197"
      },
      "source": [
        "print('Example of Fuzzification Result :\\n')\n",
        "print(\"Restoran ID : \", df['id'][0])\n",
        "print(\"Pelayanan : \", fuzzifikasi(df)[1][0])\n",
        "print(\"Makanan : \", fuzzifikasi(df)[0][1])"
      ],
      "execution_count": 63,
      "outputs": [
        {
          "output_type": "stream",
          "name": "stdout",
          "text": [
            "Example of Fuzzification Result :\n",
            "\n",
            "Restoran ID :  1\n",
            "Pelayanan :  {'SR': 0, 'R': 1, 'B': 0, 'SB': 0}\n",
            "Makanan :  {'TE': 0, 'CE': 0.0, 'E': 1, 'SE': 0}\n"
          ]
        }
      ]
    },
    {
      "cell_type": "markdown",
      "metadata": {
        "id": "kEHwe7ywsai2"
      },
      "source": [
        "# **Inferensi**"
      ]
    },
    {
      "cell_type": "markdown",
      "metadata": {
        "id": "h3fMD-ERsrYj"
      },
      "source": [
        "Aturan Inferensi (Disjungsi)"
      ]
    },
    {
      "cell_type": "code",
      "metadata": {
        "colab": {
          "base_uri": "https://localhost:8080/",
          "height": 175
        },
        "id": "yKTomlBGY-vS",
        "outputId": "3b75594a-111a-44d3-bb36-565c0392dea1"
      },
      "source": [
        "inference = pd.DataFrame([\n",
        "                  ('Tidak Disarankan', 'Tidak Disarankan', 'Tidak Disarankan', 'Tidak Disarankan'),\n",
        "                  ('Tidak Disarankan','Tidak Disarankan', 'Disarankan', 'Disarankan'),\n",
        "                  ('Tidak Disarankan', 'Disarankan', 'Disarankan', 'Sangat Disarankan'),\n",
        "                  ('Tidak Disarankan', 'Disarankan', 'Sangat Disarankan', 'Sangat Disarankan')],\n",
        "                  index=['Makanan (TE)', 'Makanan (CE)', 'Makanan (E)', 'Makanan (SE)'],\n",
        "                  columns=('Pelayanan (SR)', 'Pelayanan (R)', 'Pelayanan (B)','Pelayanan (SB)'))\n",
        "inference"
      ],
      "execution_count": 64,
      "outputs": [
        {
          "output_type": "execute_result",
          "data": {
            "text/html": [
              "<div>\n",
              "<style scoped>\n",
              "    .dataframe tbody tr th:only-of-type {\n",
              "        vertical-align: middle;\n",
              "    }\n",
              "\n",
              "    .dataframe tbody tr th {\n",
              "        vertical-align: top;\n",
              "    }\n",
              "\n",
              "    .dataframe thead th {\n",
              "        text-align: right;\n",
              "    }\n",
              "</style>\n",
              "<table border=\"1\" class=\"dataframe\">\n",
              "  <thead>\n",
              "    <tr style=\"text-align: right;\">\n",
              "      <th></th>\n",
              "      <th>Pelayanan (SR)</th>\n",
              "      <th>Pelayanan (R)</th>\n",
              "      <th>Pelayanan (B)</th>\n",
              "      <th>Pelayanan (SB)</th>\n",
              "    </tr>\n",
              "  </thead>\n",
              "  <tbody>\n",
              "    <tr>\n",
              "      <th>Makanan (TE)</th>\n",
              "      <td>Tidak Disarankan</td>\n",
              "      <td>Tidak Disarankan</td>\n",
              "      <td>Tidak Disarankan</td>\n",
              "      <td>Tidak Disarankan</td>\n",
              "    </tr>\n",
              "    <tr>\n",
              "      <th>Makanan (CE)</th>\n",
              "      <td>Tidak Disarankan</td>\n",
              "      <td>Tidak Disarankan</td>\n",
              "      <td>Disarankan</td>\n",
              "      <td>Disarankan</td>\n",
              "    </tr>\n",
              "    <tr>\n",
              "      <th>Makanan (E)</th>\n",
              "      <td>Tidak Disarankan</td>\n",
              "      <td>Disarankan</td>\n",
              "      <td>Disarankan</td>\n",
              "      <td>Sangat Disarankan</td>\n",
              "    </tr>\n",
              "    <tr>\n",
              "      <th>Makanan (SE)</th>\n",
              "      <td>Tidak Disarankan</td>\n",
              "      <td>Disarankan</td>\n",
              "      <td>Sangat Disarankan</td>\n",
              "      <td>Sangat Disarankan</td>\n",
              "    </tr>\n",
              "  </tbody>\n",
              "</table>\n",
              "</div>"
            ],
            "text/plain": [
              "                Pelayanan (SR)  ...     Pelayanan (SB)\n",
              "Makanan (TE)  Tidak Disarankan  ...   Tidak Disarankan\n",
              "Makanan (CE)  Tidak Disarankan  ...         Disarankan\n",
              "Makanan (E)   Tidak Disarankan  ...  Sangat Disarankan\n",
              "Makanan (SE)  Tidak Disarankan  ...  Sangat Disarankan\n",
              "\n",
              "[4 rows x 4 columns]"
            ]
          },
          "metadata": {},
          "execution_count": 64
        }
      ]
    },
    {
      "cell_type": "code",
      "metadata": {
        "id": "2IkaFgV12D44"
      },
      "source": [
        "def fuzzyRules(x, y) :\n",
        "  rules = ''\n",
        "  if x == 'TE':\n",
        "    if y == 'SR' or y == 'R' or y == 'B' or y == 'SB':\n",
        "      rules = 'Tidak Disarankan'\n",
        "  elif x == 'CE':\n",
        "    if y == 'SR' or y == 'R':\n",
        "      rules = 'Tidak Disarankan'\n",
        "    elif y == 'B' or y == 'SB':\n",
        "      rules = 'Disarankan'\n",
        "  elif x == 'E':\n",
        "    if y == 'SR':\n",
        "      rules = 'Tidak Disarankan'\n",
        "    elif y == 'R' or y == 'B':\n",
        "      rules = 'Disarankan'\n",
        "    elif y == 'SB':\n",
        "      rules = 'Sangat Disarankan'\n",
        "  elif x == 'SE':\n",
        "    if y == 'SR':\n",
        "      rules = 'Tidak Disarankan'\n",
        "    elif y == 'R':\n",
        "      rules = 'Disarankan'\n",
        "    elif y == 'B' or y == 'SB':\n",
        "      rules = 'Sangat Disarankan'\n",
        "  \n",
        "  return rules"
      ],
      "execution_count": 65,
      "outputs": []
    },
    {
      "cell_type": "markdown",
      "metadata": {
        "id": "8Zt-5QNYdjJA"
      },
      "source": [
        "Tahap Inferensi"
      ]
    },
    {
      "cell_type": "code",
      "metadata": {
        "id": "WB_3rmqdDX7y"
      },
      "source": [
        "def inferensi(nilaiFuzzi):\n",
        "  hasil = {'Tidak Disarankan': 0, 'Disarankan': 0, 'Sangat Disarankan': 0}\n",
        "  for keyPelayanan in nilaiFuzzi[0].keys():\n",
        "    for keyMakanan in nilaiFuzzi[1].keys():\n",
        "      nilaiMin = min(nilaiFuzzi[0][keyPelayanan], nilaiFuzzi[1][keyMakanan])\n",
        "      keyHasil = fuzzyRules(keyMakanan, keyPelayanan)\n",
        "      hasil[keyHasil] = max(nilaiMin, hasil[keyHasil])\n",
        "  return hasil"
      ],
      "execution_count": 66,
      "outputs": []
    },
    {
      "cell_type": "code",
      "metadata": {
        "colab": {
          "base_uri": "https://localhost:8080/"
        },
        "id": "ZtX1mIdocFff",
        "outputId": "a8f4e5d9-74c0-495e-c7df-c4f27a313099"
      },
      "source": [
        "#Contoh hasil inferensi\n",
        "hasilInferensi = []\n",
        "hasilFuzzi = fuzzifikasi(df)\n",
        "for i in hasilFuzzi:\n",
        "  hasilInferensi.append(inferensi(i))\n",
        "print('Example of Inference Result :\\n')\n",
        "print('Restoran ID: ', df['id'][0])\n",
        "print('Status: ', hasilInferensi[0], end=\"\\n\\n\")"
      ],
      "execution_count": 67,
      "outputs": [
        {
          "output_type": "stream",
          "name": "stdout",
          "text": [
            "Example of Inference Result :\n",
            "\n",
            "Restoran ID:  1\n",
            "Status:  {'Tidak Disarankan': 0, 'Disarankan': 1, 'Sangat Disarankan': 0}\n",
            "\n"
          ]
        }
      ]
    },
    {
      "cell_type": "markdown",
      "metadata": {
        "id": "tyVmb9o6tSZW"
      },
      "source": [
        "# **Defuzzifikasi**"
      ]
    },
    {
      "cell_type": "markdown",
      "metadata": {
        "id": "YqWnH-v6aeJX"
      },
      "source": [
        "Sugeno Singleton Model"
      ]
    },
    {
      "cell_type": "code",
      "metadata": {
        "colab": {
          "base_uri": "https://localhost:8080/",
          "height": 227
        },
        "id": "NYh-dDN2X5AG",
        "outputId": "02a2d438-7504-4946-e8ba-cde04979310b"
      },
      "source": [
        "plt.figure(figsize=(8,3))\n",
        "plt.plot([30, 30],[0, 1], 'r', linewidth=1.5, label= 'Tidak Disarankan')\n",
        "plt.plot([50, 50],[0, 1], 'g', linewidth=1.5, label= 'Disarankan')\n",
        "plt.plot([80, 80],[0, 1], 'b', linewidth=1.5, label= 'Sangat Disarankan')\n",
        "plt.title('Inference : Sugeno Model')\n",
        "plt.xticks(np.arange(0, 110, 10.0))\n",
        "plt.legend()\n",
        "plt.show()"
      ],
      "execution_count": 68,
      "outputs": [
        {
          "output_type": "display_data",
          "data": {
            "image/png": "[encoded data removed]",
            "text/plain": [
              "<Figure size 576x216 with 1 Axes>"
            ]
          },
          "metadata": {
            "needs_background": "light"
          }
        }
      ]
    },
    {
      "cell_type": "markdown",
      "metadata": {
        "id": "UVK79ZOaoO5F"
      },
      "source": [
        "Proses Defuzzification"
      ]
    },
    {
      "cell_type": "code",
      "metadata": {
        "id": "cIeEP-eYjCBu"
      },
      "source": [
        "defuzz = {'Tidak Disarankan' : 30, 'Disarankan' : 50, 'Sangat Disarankan' : 80}\n",
        "def defuzzification(inferensi, deffuz):\n",
        "    w, z = 0, 0\n",
        "    for result in deffuz.keys():\n",
        "        w += inferensi[result] * deffuz[result]\n",
        "        z += inferensi[result]\n",
        "    return w/z"
      ],
      "execution_count": 69,
      "outputs": []
    },
    {
      "cell_type": "markdown",
      "metadata": {
        "id": "_XQNtL5GoTpX"
      },
      "source": [
        "# **Main Program**"
      ]
    },
    {
      "cell_type": "code",
      "metadata": {
        "colab": {
          "base_uri": "https://localhost:8080/"
        },
        "id": "eKc10odWbUw2",
        "outputId": "a84c0e33-6036-40f4-f8f0-58a17dace094"
      },
      "source": [
        "hasilFuzzi = fuzzifikasi(df)\n",
        "hasilInferensi = []\n",
        "for i in hasilFuzzi:\n",
        "  hasilInferensi.append(inferensi(i))\n",
        "hasilDefuzz = []\n",
        "for j in hasilInferensi:\n",
        "    hasilDefuzz.append(defuzzification(j, defuzz))\n",
        "\n",
        "print('Example of Defuzzification Result :\\n')\n",
        "print('Restoran ID: ', df['id'][10])\n",
        "print('Nilai: ', hasilDefuzz[10])"
      ],
      "execution_count": 70,
      "outputs": [
        {
          "output_type": "stream",
          "name": "stdout",
          "text": [
            "Example of Defuzzification Result :\n",
            "\n",
            "Restoran ID:  11\n",
            "Nilai:  30.0\n"
          ]
        }
      ]
    },
    {
      "cell_type": "code",
      "metadata": {
        "colab": {
          "base_uri": "https://localhost:8080/",
          "height": 363
        },
        "id": "EKv0WCsA6xUP",
        "outputId": "77559b35-f215-4c7e-87e1-eca2ee4faf73"
      },
      "source": [
        "df['score'] = hasilDefuzz\n",
        "bestResult = df.sort_values(by='score', ascending=False)[:10]\n",
        "notBest = df.drop(bestResult.index)\n",
        "\n",
        "bestResult['id'].to_excel('peringkat.xls', index=False, header=False)  \n",
        "bestResult.head(10)"
      ],
      "execution_count": 71,
      "outputs": [
        {
          "output_type": "execute_result",
          "data": {
            "text/html": [
              "<div>\n",
              "<style scoped>\n",
              "    .dataframe tbody tr th:only-of-type {\n",
              "        vertical-align: middle;\n",
              "    }\n",
              "\n",
              "    .dataframe tbody tr th {\n",
              "        vertical-align: top;\n",
              "    }\n",
              "\n",
              "    .dataframe thead th {\n",
              "        text-align: right;\n",
              "    }\n",
              "</style>\n",
              "<table border=\"1\" class=\"dataframe\">\n",
              "  <thead>\n",
              "    <tr style=\"text-align: right;\">\n",
              "      <th></th>\n",
              "      <th>id</th>\n",
              "      <th>pelayanan</th>\n",
              "      <th>makanan</th>\n",
              "      <th>score</th>\n",
              "    </tr>\n",
              "  </thead>\n",
              "  <tbody>\n",
              "    <tr>\n",
              "      <th>23</th>\n",
              "      <td>24</td>\n",
              "      <td>100</td>\n",
              "      <td>9</td>\n",
              "      <td>80.0</td>\n",
              "    </tr>\n",
              "    <tr>\n",
              "      <th>41</th>\n",
              "      <td>42</td>\n",
              "      <td>94</td>\n",
              "      <td>10</td>\n",
              "      <td>80.0</td>\n",
              "    </tr>\n",
              "    <tr>\n",
              "      <th>24</th>\n",
              "      <td>25</td>\n",
              "      <td>61</td>\n",
              "      <td>10</td>\n",
              "      <td>80.0</td>\n",
              "    </tr>\n",
              "    <tr>\n",
              "      <th>30</th>\n",
              "      <td>31</td>\n",
              "      <td>74</td>\n",
              "      <td>9</td>\n",
              "      <td>80.0</td>\n",
              "    </tr>\n",
              "    <tr>\n",
              "      <th>78</th>\n",
              "      <td>79</td>\n",
              "      <td>87</td>\n",
              "      <td>9</td>\n",
              "      <td>80.0</td>\n",
              "    </tr>\n",
              "    <tr>\n",
              "      <th>69</th>\n",
              "      <td>70</td>\n",
              "      <td>78</td>\n",
              "      <td>8</td>\n",
              "      <td>80.0</td>\n",
              "    </tr>\n",
              "    <tr>\n",
              "      <th>68</th>\n",
              "      <td>69</td>\n",
              "      <td>86</td>\n",
              "      <td>10</td>\n",
              "      <td>80.0</td>\n",
              "    </tr>\n",
              "    <tr>\n",
              "      <th>62</th>\n",
              "      <td>63</td>\n",
              "      <td>78</td>\n",
              "      <td>7</td>\n",
              "      <td>80.0</td>\n",
              "    </tr>\n",
              "    <tr>\n",
              "      <th>21</th>\n",
              "      <td>22</td>\n",
              "      <td>79</td>\n",
              "      <td>9</td>\n",
              "      <td>80.0</td>\n",
              "    </tr>\n",
              "    <tr>\n",
              "      <th>53</th>\n",
              "      <td>54</td>\n",
              "      <td>64</td>\n",
              "      <td>10</td>\n",
              "      <td>80.0</td>\n",
              "    </tr>\n",
              "  </tbody>\n",
              "</table>\n",
              "</div>"
            ],
            "text/plain": [
              "    id  pelayanan  makanan  score\n",
              "23  24        100        9   80.0\n",
              "41  42         94       10   80.0\n",
              "24  25         61       10   80.0\n",
              "30  31         74        9   80.0\n",
              "78  79         87        9   80.0\n",
              "69  70         78        8   80.0\n",
              "68  69         86       10   80.0\n",
              "62  63         78        7   80.0\n",
              "21  22         79        9   80.0\n",
              "53  54         64       10   80.0"
            ]
          },
          "metadata": {},
          "execution_count": 71
        }
      ]
    },
    {
      "cell_type": "code",
      "metadata": {
        "colab": {
          "base_uri": "https://localhost:8080/",
          "height": 502
        },
        "id": "vPkA2xH7EiC9",
        "outputId": "45e67f8a-6972-4913-ceb4-06aee193ad9e"
      },
      "source": [
        "plt.figure(figsize=(25,10))\n",
        "plt.scatter(bestResult.pelayanan,\n",
        "            bestResult.makanan,\n",
        "            label = \"Restoran Terbaik\",\n",
        "            c = \"r\")\n",
        "plt.scatter(notBest.pelayanan,\n",
        "            notBest.makanan,\n",
        "            label = \"Restoran Lainnya\",\n",
        "            c = \"b\")\n",
        "      \n",
        "plt.xlabel('Pelayanan')\n",
        "plt.ylabel('Makanan')\n",
        "plt.title('Data Restoran')\n",
        "plt.legend(loc='lower right')\n",
        "plt.show()"
      ],
      "execution_count": 72,
      "outputs": [
        {
          "output_type": "display_data",
          "data": {
            "image/png": "[encoded data removed]",
            "text/plain": [
              "<Figure size 1800x720 with 1 Axes>"
            ]
          },
          "metadata": {
            "needs_background": "light"
          }
        }
      ]
    }
  ]
}